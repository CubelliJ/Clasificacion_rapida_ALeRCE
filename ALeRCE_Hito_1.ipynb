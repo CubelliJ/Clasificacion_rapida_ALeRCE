{
 "cells": [
  {
   "cell_type": "markdown",
   "metadata": {},
   "source": [
    "# Clasificación rápida en ALeRCE utilizando selección de características y algoritmos genéticos.\n",
    "\n",
    "Integrantes: Joaquín Cubelli - Tomás de la Sotta\n",
    "\n",
    "Profesor de Cátedra: Pablo Estévez<br>\n",
    "Profesor Auxiliar: Ignacio Reyes<br>\n",
    "Ayudantes: Francisca Cona, Jhon Intriago, Pablo Montero, Óscar Pimentel, Esteban Reyes, Mauricio Romero"
   ]
  },
  {
   "cell_type": "markdown",
   "metadata": {},
   "source": [
    "El broker astronómico ALeRCE clasifica objetos en tiempo real todas las noches. Para ello utiliza dos modelos, un clasificador basado en estampillas para detección rápida de transientes y un clasificador basado en curvas de luz que utiliza una taxonomía detallada. El clasificador de curvas de luz, descrito en Sánchez-Sáez et al. (2020), consiste en la extracción de múltiples características a partir de las curvas de luz (y otras fuentes de datos) y un modelo basado en Random Forests.\n",
    "\n",
    "El objetivo de este proyecto es reducir el número de características utilizadas por el clasificador de curvas de luz de ALeRCE, explorando el compromiso entre el desempeño en clasificación y el costo computacional asociado.\n",
    "\n",
    "La primera etapa del proyecto consiste en **evaluar la estrategia greedy para seleccionar las características más relevantes al momento de clasificar**. En esta estrategia se explorará una característica a la vez, buscando cuál de ellas ayuda más al desempeño del modelo cuando es agregada al conjunto de características utilizadas. También se deberá probar comenzando con todas las características y removiendo una característica a la vez. \n",
    "\n",
    "Notar que en esta etapa no se toma en cuenta explícitamente el costo de computar cada característica al momento de efectuar la selección.\n",
    "\n",
    "Ref: Sánchez-Sáez, P., et al. \"Alert Classification for the ALeRCE Broker System: The Light Curve Classifier.\" arXiv preprint arXiv:2008.03311 (2020).\n",
    "Ref: Huang, Cheng-Lung, and Chieh-Jen Wang. \"A GA-based feature selection and parameters optimization for support vector machines.\" Expert Systems with applications 31.2 (2006): 231-240. Nota: Tomar como referencia, no como pauta a la cual seguir al pie de la letra. "
   ]
  },
  {
   "cell_type": "code",
   "execution_count": 2,
   "metadata": {},
   "outputs": [],
   "source": [
    "# Imports:\n",
    "\n",
    "# Procesamiento de datos.\n",
    "import numpy as np\n",
    "import pandas as pd\n",
    "\n",
    "# Tensorflow y asociados.\n",
    "\n",
    "import tensorflow as tf\n"
   ]
  },
  {
   "cell_type": "markdown",
   "metadata": {},
   "source": [
    "## Datos para el Proyecto:\n",
    "\n",
    "Detecciones: https://droppy.alerce.online/$/LLaeQ\n",
    "\n",
    "No detecciones: https://droppy.alerce.online/$/PrIbP\n",
    "\n",
    "Features: https://droppy.alerce.online/$/3x3qh\n",
    "\n",
    "Etiquetas: https://droppy.alerce.online/$/XHsJO\n",
    "\n",
    "Abrir con pandas. Algunos archivos tienen formato pickle, otros CSV.\n",
    "Hay features que no deben usar, como por ejemplo el brillo promedio, ya que no queremos sesgar el análisis según qué tan cerca está el objeto.\n",
    "Los _1 y _2 de los features indican a qué banda pertenece (banda g, banda r)."
   ]
  },
  {
   "cell_type": "code",
   "execution_count": null,
   "metadata": {},
   "outputs": [],
   "source": [
    "# Los features que no deben usar son:\n",
    "\n",
    "banned_features = [\n",
    "   'mean_mag_1',\n",
    "   'mean_mag_2',\n",
    "   'min_mag_1',\n",
    "   'min_mag_2',\n",
    "   'Mean_1',\n",
    "   'Mean_2',\n",
    "   'n_det_1',\n",
    "   'n_det_2',\n",
    "   'n_pos_1',\n",
    "   'n_pos_2',\n",
    "   'n_neg_1',\n",
    "   'n_neg_2',\n",
    "   'first_mag_1',\n",
    "   'first_mag_2',\n",
    "   'MHPS_non_zero_1',\n",
    "   'MHPS_non_zero_2',\n",
    "   'MHPS_PN_flag_1',\n",
    "   'MHPS_PN_flag_2',\n",
    "   'W1', 'W2', 'W3', 'W4',\n",
    "   'iqr_1',\n",
    "   'iqr_2',\n",
    "   'delta_mjd_fid_1',\n",
    "   'delta_mjd_fid_2',\n",
    "   'last_mjd_before_fid_1',\n",
    "   'last_mjd_before_fid_2',\n",
    "   'g-r_ml',\n",
    "   'MHAOV_Period_1', 'MHAOV_Period_2'\n",
    "]"
   ]
  },
  {
   "cell_type": "markdown",
   "metadata": {},
   "source": [
    "En el archivo con las etiquetas hay varias clases. Para el análisis agruparemos algunas clases según el siguiente diccionario (etiqueta original: nueva etiqueta)\n",
    "\n",
    "{\n",
    " \"class_dictionary\": {\n",
    "   \"AGN\": \"AGN\",\n",
    "   \"Blazar\": \"Blazar\",\n",
    "   \"CV/Nova\": \"CV/Nova\",\n",
    "   \"SNIa\": \"SNIa\",\n",
    "   \"SNIbc\": \"SNIbc\",\n",
    "   \"SNII\": \"SNII\",\n",
    "   \"SNIIn\": \"SNII\",\n",
    "   \"SLSN\": \"SLSN\",\n",
    "   \"EA\": \"E\",\n",
    "   \"EB/EW\": \"E\",\n",
    "   \"DSCT\": \"DSCT\",\n",
    "   \"RRL\": \"RRL\",\n",
    "   \"Ceph\": \"CEP\",\n",
    "   \"LPV\": \"LPV\",\n",
    "   \"Periodic-Other\": \"Periodic-Other\",\n",
    "   \"QSO\": \"QSO\",\n",
    "   \"YSO\": \"YSO\",\n",
    "   \"RSCVn\": \"Periodic-Other\"\n",
    " }\n",
    "}"
   ]
  },
  {
   "cell_type": "code",
   "execution_count": null,
   "metadata": {},
   "outputs": [],
   "source": []
  }
 ],
 "metadata": {
  "kernelspec": {
   "display_name": "Python 3",
   "language": "python",
   "name": "python3"
  },
  "language_info": {
   "codemirror_mode": {
    "name": "ipython",
    "version": 3
   },
   "file_extension": ".py",
   "mimetype": "text/x-python",
   "name": "python",
   "nbconvert_exporter": "python",
   "pygments_lexer": "ipython3",
   "version": "3.7.6"
  }
 },
 "nbformat": 4,
 "nbformat_minor": 4
}
